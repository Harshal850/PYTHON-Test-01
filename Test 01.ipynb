{
 "cells": [
  {
   "cell_type": "code",
   "execution_count": 1,
   "metadata": {},
   "outputs": [
    {
     "name": "stdout",
     "output_type": "stream",
     "text": [
      "Type a number: 10\n",
      "Type another number: 20\n",
      "The sum is:  30\n"
     ]
    }
   ],
   "source": [
    "x = input(\"Type a number: \")\n",
    "y = input(\"Type another number: \")\n",
    "\n",
    "sum = int(x) + int(y)\n",
    "\n",
    "print(\"The sum is: \", sum)"
   ]
  },
  {
   "cell_type": "code",
   "execution_count": 3,
   "metadata": {},
   "outputs": [
    {
     "name": "stdout",
     "output_type": "stream",
     "text": [
      "Hello Bob!\n"
     ]
    }
   ],
   "source": [
    "my_string = \"Bob\"\n",
    "my_updated_string = my_string + \"!\"\n",
    "new_string = \"Hello\" + \" \" + my_updated_string\n",
    "print(new_string)"
   ]
  },
  {
   "cell_type": "code",
   "execution_count": 4,
   "metadata": {
    "scrolled": true
   },
   "outputs": [
    {
     "name": "stdout",
     "output_type": "stream",
     "text": [
      "Original Array is : [1, 2, 3]\n",
      "New Reversed Array is: [3, 2, 1]\n"
     ]
    }
   ],
   "source": [
    "arr = [1,2,3]\n",
    "print(\"Original Array is :\",arr)\n",
    "result = list(reversed(arr))\n",
    "print(\"New Reversed Array is:\",result)"
   ]
  },
  {
   "cell_type": "code",
   "execution_count": 21,
   "metadata": {},
   "outputs": [
    {
     "name": "stdout",
     "output_type": "stream",
     "text": [
      "Select an operation.\n",
      "+\n",
      "-\n",
      "*\n",
      "/\n",
      "Enter operator to use:+\n",
      "Enter first number: 2\n",
      "Enter second number: 8\n",
      "2 + 8 = 10\n"
     ]
    }
   ],
   "source": [
    "# This function performs additiion\n",
    "def add(a, b):\n",
    "    return a + b\n",
    "# This function performs subtraction\n",
    "def subtract(a, b):\n",
    "    return a - b\n",
    "# This function performs multiplication\n",
    "def multiply(a, b):\n",
    "    return a * b\n",
    "# This function performs division\n",
    "def divide(a, b):\n",
    "\n",
    "    return a / b\n",
    "print(\"Select an operation.\")\n",
    "print(\"+\")\n",
    "print(\"-\")\n",
    "print(\"*\")\n",
    "print(\"/\")\n",
    "# User input\n",
    "choice = input(\"Enter operator to use:\")\n",
    "A = int(input(\"Enter first number: \"))\n",
    "B = int(input(\"Enter second number: \"))\n",
    "if choice == '+':\n",
    "    print(A,\"+\",B,\"=\", add(A,B))\n",
    "elif choice == '-':\n",
    "    print(A,\"-\",B,\"=\", subtract(A,B))\n",
    "elif choice == '*':\n",
    "    print(A,\"*\",B,\"=\", multiply(A,B))\n",
    "elif choice == '/':\n",
    "    print(A,\"/\",B,\"=\", divide(A,B))\n",
    "else:\n",
    "    print(\"Invalid input\")"
   ]
  },
  {
   "cell_type": "code",
   "execution_count": null,
   "metadata": {},
   "outputs": [],
   "source": []
  }
 ],
 "metadata": {
  "kernelspec": {
   "display_name": "Python 3",
   "language": "python",
   "name": "python3"
  },
  "language_info": {
   "codemirror_mode": {
    "name": "ipython",
    "version": 3
   },
   "file_extension": ".py",
   "mimetype": "text/x-python",
   "name": "python",
   "nbconvert_exporter": "python",
   "pygments_lexer": "ipython3",
   "version": "3.7.7"
  }
 },
 "nbformat": 4,
 "nbformat_minor": 4
}
